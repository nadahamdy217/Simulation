{
 "cells": [
  {
   "cell_type": "markdown",
   "id": "c188f76a",
   "metadata": {},
   "source": [
    "الاسم: ندى حمدي فتحي عبدالسلام\n",
    "\n",
    "id: 20201382436"
   ]
  },
  {
   "cell_type": "markdown",
   "id": "c7c0fbd2",
   "metadata": {},
   "source": [
    "The function is x to the power 3 and this represnts a curve\n",
    "\n",
    "In Monte carlo method, we need to find the area of the curve this equation represents\n",
    "\n",
    "We have min and max for the value x from 2 to 5(given), and y is any number above 125 so we chose 140 (THIS IS FOR HANDLING RN)\n",
    "\n",
    "we enclose the area needed to be evaluated with a regular figure of a known area,\n",
    "for example, a square or rectangle of a known area. In this problem, a\n",
    "rectangle of area (A) = 3*140 is taken. The 140 is estimated and could be\n",
    "changed, any number above 125 is good to be used.\n",
    "\n",
    "Here, we want to know the area under the curve using Monte Carlo technique."
   ]
  },
  {
   "cell_type": "code",
   "execution_count": 1,
   "id": "fb43fe67",
   "metadata": {},
   "outputs": [],
   "source": [
    "#import important libraries\n",
    "import pandas as pd\n",
    "import numpy as np\n",
    "import random\n",
    "import matplotlib.pyplot as plt\n",
    "from math import *"
   ]
  },
  {
   "cell_type": "code",
   "execution_count": 2,
   "id": "0f8bae7e",
   "metadata": {},
   "outputs": [],
   "source": [
    "num_of_points = int(input(\"Enter number of points: \"))"
   ]
  },
  {
   "cell_type": "code",
   "execution_count": 3,
   "id": "4a5bbe94",
   "metadata": {},
   "outputs": [
    {
     "name": "stdout",
     "output_type": "stream",
     "text": [
      "[21, 30, 27, 20, 23, 30, 30, 28, 22, 22]\n",
      "[64, 33, 4, 10, 23, 0, 19, 92, 67, 16]\n"
     ]
    }
   ],
   "source": [
    "rn_for_x = []\n",
    "rn_for_y = []\n",
    "\n",
    "for i in range (num_of_points):\n",
    "    rn_for_x.append(random.randint(20,30))\n",
    "    rn_for_y.append(random.randint(0,99))\n",
    "    \n",
    "print (rn_for_x)\n",
    "print (rn_for_y)"
   ]
  },
  {
   "cell_type": "code",
   "execution_count": 4,
   "id": "436d010e",
   "metadata": {},
   "outputs": [
    {
     "name": "stdout",
     "output_type": "stream",
     "text": [
      "[2.1, 3.0, 2.7, 2.0, 2.3, 3.0, 3.0, 2.8, 2.2, 2.2]\n"
     ]
    }
   ],
   "source": [
    "#filling x _corr\n",
    "\n",
    "x_corr = []\n",
    "\n",
    "for i in range (num_of_points):\n",
    "    x_corr.append(round((rn_for_x[i]*0.1),2))\n",
    "    \n",
    "print(x_corr)"
   ]
  },
  {
   "cell_type": "code",
   "execution_count": 5,
   "id": "9ff83723",
   "metadata": {},
   "outputs": [
    {
     "name": "stdout",
     "output_type": "stream",
     "text": [
      "[89.6, 46.2, 5.6, 14.0, 32.2, 0.0, 26.6, 128.8, 93.8, 22.4]\n"
     ]
    }
   ],
   "source": [
    "#filling y_corr\n",
    "\n",
    "y_corr = []\n",
    "\n",
    "for i in range (num_of_points):\n",
    "    y_corr.append(round((rn_for_y[i]*0.01*140),2))\n",
    "    \n",
    "print(y_corr)"
   ]
  },
  {
   "cell_type": "code",
   "execution_count": 6,
   "id": "fb127e22",
   "metadata": {},
   "outputs": [
    {
     "name": "stdout",
     "output_type": "stream",
     "text": [
      "[9.26, 27.0, 19.68, 8.0, 12.17, 27.0, 27.0, 21.95, 10.65, 10.65]\n"
     ]
    }
   ],
   "source": [
    "#filling x^3\n",
    "\n",
    "x3 = []\n",
    "\n",
    "for i in range (num_of_points):\n",
    "    x3.append(round((x_corr[i]**3),2))\n",
    "    \n",
    "print (x3)"
   ]
  },
  {
   "cell_type": "code",
   "execution_count": 7,
   "id": "51c43c13",
   "metadata": {},
   "outputs": [
    {
     "name": "stdout",
     "output_type": "stream",
     "text": [
      "[0, 0, 1, 0, 0, 1, 1, 0, 0, 0]\n",
      "[1, 2, 3, 4, 5, 6, 7, 8, 9, 10]\n"
     ]
    }
   ],
   "source": [
    "#filling m and n\n",
    "m = []\n",
    "n = []\n",
    "\n",
    "for i in range (num_of_points):\n",
    "    n.append(i+1)\n",
    "    if ( x3[i] >= y_corr [i]):\n",
    "        m.append(1)\n",
    "    else:\n",
    "        m.append(0)\n",
    "\n",
    "print(m)\n",
    "print(n)"
   ]
  },
  {
   "cell_type": "code",
   "execution_count": 8,
   "id": "db605c3a",
   "metadata": {},
   "outputs": [
    {
     "name": "stdout",
     "output_type": "stream",
     "text": [
      "   Random Number for x  x coordinate  Random Number for y  y coordinate  \\\n",
      "0                   21           2.1                   64          89.6   \n",
      "1                   30           3.0                   33          46.2   \n",
      "2                   27           2.7                    4           5.6   \n",
      "3                   20           2.0                   10          14.0   \n",
      "4                   23           2.3                   23          32.2   \n",
      "5                   30           3.0                    0           0.0   \n",
      "6                   30           3.0                   19          26.6   \n",
      "7                   28           2.8                   92         128.8   \n",
      "8                   22           2.2                   67          93.8   \n",
      "9                   22           2.2                   16          22.4   \n",
      "\n",
      "     x^3  M   N  \n",
      "0   9.26  0   1  \n",
      "1  27.00  0   2  \n",
      "2  19.68  1   3  \n",
      "3   8.00  0   4  \n",
      "4  12.17  0   5  \n",
      "5  27.00  1   6  \n",
      "6  27.00  1   7  \n",
      "7  21.95  0   8  \n",
      "8  10.65  0   9  \n",
      "9  10.65  0  10  \n"
     ]
    }
   ],
   "source": [
    "#making data frame\n",
    "\n",
    "data = {\n",
    "    \"Random Number for x\": rn_for_x,\n",
    "    \"x coordinate\" : x_corr,\n",
    "    \"Random Number for y\": rn_for_y,\n",
    "    \"y coordinate\" : y_corr,\n",
    "    \"x^3\" : x3,\n",
    "    \"M\" : m,\n",
    "    \"N\" : n\n",
    "}\n",
    "\n",
    "df = pd.DataFrame(data)\n",
    "print(df)"
   ]
  },
  {
   "cell_type": "code",
   "execution_count": 9,
   "id": "00d95ce7",
   "metadata": {},
   "outputs": [
    {
     "name": "stdout",
     "output_type": "stream",
     "text": [
      "126.0\n"
     ]
    }
   ],
   "source": [
    "#getting the area under the curve\n",
    "A = 3*140\n",
    "I = (sum(m)/num_of_points)*A\n",
    "\n",
    "print (I)"
   ]
  }
 ],
 "metadata": {
  "kernelspec": {
   "display_name": "base",
   "language": "python",
   "name": "python3"
  },
  "language_info": {
   "codemirror_mode": {
    "name": "ipython",
    "version": 3
   },
   "file_extension": ".py",
   "mimetype": "text/x-python",
   "name": "python",
   "nbconvert_exporter": "python",
   "pygments_lexer": "ipython3",
   "version": "3.9.13"
  },
  "vscode": {
   "interpreter": {
    "hash": "963fec66046f4c986769a02bfe9ea1432793869968131dcc5ed45c5b4f91da6a"
   }
  }
 },
 "nbformat": 4,
 "nbformat_minor": 5
}
