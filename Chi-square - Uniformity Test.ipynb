{
 "cells": [
  {
   "cell_type": "markdown",
   "id": "b7453141",
   "metadata": {},
   "source": [
    "ندى حمدي فتحي عبدالسلام - 20201382436"
   ]
  },
  {
   "cell_type": "code",
   "execution_count": 1,
   "id": "1bac241e",
   "metadata": {},
   "outputs": [],
   "source": [
    "#import lybraries we will use\n",
    "import pandas as pd\n",
    "import random"
   ]
  },
  {
   "cell_type": "code",
   "execution_count": 29,
   "id": "67f2b689",
   "metadata": {},
   "outputs": [
    {
     "name": "stdout",
     "output_type": "stream",
     "text": [
      "[64, 92, 23, 37, 97, 87, 45, 56, 91, 63, 56, 58, 37, 80, 66, 71, 87, 47, 49, 84, 65, 20, 65, 93, 73, 30, 65, 68, 80, 11, 61, 81, 16, 96, 40, 62, 49, 69, 85, 33, 98, 53, 56, 10, 75, 96, 90, 49, 85, 15, 89, 12, 60, 95, 38, 20, 26, 52, 77, 57, 47, 72, 52, 15, 8, 36, 99, 21, 96, 19, 26, 6, 50, 69, 60, 93, 83, 16, 81, 98, 19, 4, 75, 86, 60, 20, 6, 33, 41, 47, 48, 58, 24, 97, 9, 39, 17, 75, 29, 46]\n"
     ]
    }
   ],
   "source": [
    "#generating random numbers\n",
    "n = []\n",
    "\n",
    "for i in range (100):\n",
    "    n.append(random.randint(0,99))\n",
    "    \n",
    "print (n)"
   ]
  },
  {
   "cell_type": "code",
   "execution_count": 30,
   "id": "6249b99a",
   "metadata": {},
   "outputs": [],
   "source": [
    "from_1_to_10 = 0\n",
    "from_10_to_20 = 0\n",
    "from_20_to_30 = 0\n",
    "from_30_to_40 = 0\n",
    "from_40_to_50 = 0\n",
    "from_50_to_60 = 0\n",
    "from_60_to_70 = 0\n",
    "from_70_to_80 = 0\n",
    "from_80_to_90 = 0\n",
    "from_90_to_100 = 0\n",
    "\n",
    "for i in n:\n",
    "    if n[i]>=1 and n[i] < 10 :\n",
    "        from_1_to_10 += 1\n",
    "        \n",
    "    elif n[i]>=10 and n[i] < 20:\n",
    "        from_10_to_20 += 1\n",
    "        \n",
    "    elif n[i]>= 20 and n[i] < 30:\n",
    "        from_20_to_30 += 1\n",
    "        \n",
    "    elif n[i]>= 30 and n[i] < 40:\n",
    "        from_30_to_40 += 1\n",
    "        \n",
    "    elif n[i]>= 40 and n[i] < 50:\n",
    "        from_40_to_50 += 1\n",
    "        \n",
    "    elif n[i]>= 50 and n[i] < 60:\n",
    "        from_50_to_60 += 1\n",
    "        \n",
    "    elif n[i]>= 60 and n[i] < 70:\n",
    "        from_60_to_70 += 1\n",
    "        \n",
    "    elif n[i]>= 70 and n[i] < 80:\n",
    "        from_70_to_80 += 1\n",
    "        \n",
    "    elif n[i]>= 80 and n[i] < 90:\n",
    "        from_80_to_90 += 1\n",
    "        \n",
    "    elif n[i]>= 90 and n[i] < 100:\n",
    "        from_90_to_100 += 1"
   ]
  },
  {
   "cell_type": "code",
   "execution_count": 31,
   "id": "6e40a429",
   "metadata": {},
   "outputs": [
    {
     "name": "stdout",
     "output_type": "stream",
     "text": [
      "[5, 13, 9, 8, 13, 7, 13, 8, 8, 16]\n",
      "100\n"
     ]
    }
   ],
   "source": [
    "#filling observation\n",
    "\n",
    "o=[from_1_to_10,from_10_to_20, from_20_to_30 ,from_30_to_40 ,from_40_to_50 ,from_50_to_60 ,\n",
    "   from_60_to_70 ,from_70_to_80 ,from_80_to_90 ,from_90_to_100]\n",
    "\n",
    "print (o)\n",
    "\n",
    "#make sure that the sum of obseravtion = 100\n",
    "print(sum(o))"
   ]
  },
  {
   "cell_type": "code",
   "execution_count": 32,
   "id": "fa95ea53",
   "metadata": {},
   "outputs": [
    {
     "name": "stdout",
     "output_type": "stream",
     "text": [
      "[10, 10, 10, 10, 10, 10, 10, 10, 10, 10]\n"
     ]
    }
   ],
   "source": [
    "#filling expected\n",
    "\n",
    "e=[10]*10\n",
    "\n",
    "print(e)"
   ]
  },
  {
   "cell_type": "code",
   "execution_count": 33,
   "id": "e11d7aa1",
   "metadata": {},
   "outputs": [
    {
     "name": "stdout",
     "output_type": "stream",
     "text": [
      "[-5, 3, -1, -2, 3, -3, 3, -2, -2, 6]\n"
     ]
    }
   ],
   "source": [
    "#filling (e-o)\n",
    "e_o = []\n",
    "for i in range(10):\n",
    "    e_o.append(o[i]-e[i])\n",
    "    \n",
    "print (e_o)"
   ]
  },
  {
   "cell_type": "code",
   "execution_count": 34,
   "id": "38d0ce65",
   "metadata": {},
   "outputs": [
    {
     "name": "stdout",
     "output_type": "stream",
     "text": [
      "[25, 9, 1, 4, 9, 9, 9, 4, 4, 36]\n"
     ]
    }
   ],
   "source": [
    "#filling e_o_square \n",
    "e_o_square = []\n",
    "\n",
    "for i in range (10):\n",
    "    e_o_square.append(e_o[i]**2)\n",
    "\n",
    "print(e_o_square)"
   ]
  },
  {
   "cell_type": "code",
   "execution_count": 35,
   "id": "d568d6ae",
   "metadata": {},
   "outputs": [
    {
     "name": "stdout",
     "output_type": "stream",
     "text": [
      "[2.5, 0.9, 0.1, 0.4, 0.9, 0.9, 0.9, 0.4, 0.4, 3.6]\n"
     ]
    }
   ],
   "source": [
    "# filling chi_equ\n",
    "\n",
    "chi_equ = []\n",
    "for i in range (10):\n",
    "    chi_equ.append(e_o_square[i]/e[i])\n",
    "    \n",
    "print(chi_equ)"
   ]
  },
  {
   "cell_type": "code",
   "execution_count": 37,
   "id": "e6d438e7",
   "metadata": {},
   "outputs": [
    {
     "name": "stdout",
     "output_type": "stream",
     "text": [
      "11.0\n"
     ]
    }
   ],
   "source": [
    "#getting sum of chi_equ to get chi_value\n",
    "\n",
    "chi_value = round(sum(chi_equ),2)\n",
    "print(chi_value)"
   ]
  }
 ],
 "metadata": {
  "kernelspec": {
   "display_name": "base",
   "language": "python",
   "name": "python3"
  },
  "language_info": {
   "codemirror_mode": {
    "name": "ipython",
    "version": 3
   },
   "file_extension": ".py",
   "mimetype": "text/x-python",
   "name": "python",
   "nbconvert_exporter": "python",
   "pygments_lexer": "ipython3",
   "version": "3.9.13 (main, Aug 25 2022, 23:51:50) [MSC v.1916 64 bit (AMD64)]"
  },
  "vscode": {
   "interpreter": {
    "hash": "963fec66046f4c986769a02bfe9ea1432793869968131dcc5ed45c5b4f91da6a"
   }
  }
 },
 "nbformat": 4,
 "nbformat_minor": 5
}
