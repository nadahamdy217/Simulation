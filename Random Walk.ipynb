{
 "cells": [
  {
   "cell_type": "markdown",
   "id": "c42bd2ba",
   "metadata": {},
   "source": [
    "### الاسم: ندى حمدي فتحي عبدالسلام\n",
    "### id: 20201382436"
   ]
  },
  {
   "cell_type": "code",
   "execution_count": 1,
   "id": "e811d359",
   "metadata": {},
   "outputs": [],
   "source": [
    "#import lybraries we will use\n",
    "import pandas as pd\n",
    "import random"
   ]
  },
  {
   "cell_type": "code",
   "execution_count": 2,
   "id": "1d24e2b0",
   "metadata": {},
   "outputs": [],
   "source": [
    "step = []\n",
    "rn = []\n",
    "direction = []\n",
    "x_corr = []\n",
    "y_corr = []"
   ]
  },
  {
   "cell_type": "code",
   "execution_count": 3,
   "id": "034d4930",
   "metadata": {},
   "outputs": [],
   "source": [
    "num_of_steps = int(input(\"Enter the number if steps: \"))"
   ]
  },
  {
   "cell_type": "code",
   "execution_count": 4,
   "id": "e2ca9396",
   "metadata": {},
   "outputs": [
    {
     "name": "stdout",
     "output_type": "stream",
     "text": [
      "[8, 1, 5, 5, 5, 6, 1, 0, 7, 8, 3, 2, 5, 6, 3, 1, 8, 5, 1, 8]\n"
     ]
    }
   ],
   "source": [
    "#filling rn\n",
    "\n",
    "for i in range (num_of_steps):\n",
    "    rn.append(random.randint(0,9))\n",
    "    \n",
    "print (rn)"
   ]
  },
  {
   "cell_type": "code",
   "execution_count": 5,
   "id": "454e594d",
   "metadata": {},
   "outputs": [
    {
     "name": "stdout",
     "output_type": "stream",
     "text": [
      "['R', 'F', 'L', 'L', 'L', 'L', 'F', 'F', 'L', 'R', 'F', 'F', 'L', 'L', 'F', 'F', 'R', 'L', 'F', 'R']\n"
     ]
    }
   ],
   "source": [
    "#filling direction\n",
    "\n",
    "for i in range (num_of_steps):\n",
    "    if (rn[i] >= 0 and rn[i] <= 4):\n",
    "        direction.append(\"F\")\n",
    "    elif (rn[i] >= 5 and rn[i] <= 7):\n",
    "        direction.append(\"L\")\n",
    "    else:\n",
    "        direction.append(\"R\")\n",
    "        \n",
    "print(direction)"
   ]
  },
  {
   "cell_type": "code",
   "execution_count": 6,
   "id": "e1d0ab07",
   "metadata": {},
   "outputs": [
    {
     "name": "stdout",
     "output_type": "stream",
     "text": [
      "[1, 2, 3, 4, 5, 6, 7, 8, 9, 10, 11, 12, 13, 14, 15, 16, 17, 18, 19, 20]\n",
      "[1, 1, 0, -1, -2, -3, -3, -3, -4, -3, -3, -3, -4, -5, -5, -5, -4, -5, -5, -4]\n",
      "[0, 1, 1, 1, 1, 1, 2, 3, 3, 3, 4, 5, 5, 5, 6, 7, 7, 7, 8, 8]\n"
     ]
    }
   ],
   "source": [
    "#filling x_corr and y_corr\n",
    "x = 0\n",
    "y = 0\n",
    "\n",
    "for i in range (num_of_steps):\n",
    "    step.append(i+1)\n",
    "    if (direction[i] == 'L'):\n",
    "        x -= 1\n",
    "        x_corr.append(x)\n",
    "        y_corr.append(y)\n",
    "    elif (direction[i] == 'R'):\n",
    "        x += 1\n",
    "        x_corr.append(x)\n",
    "        y_corr.append(y)\n",
    "    elif(direction[i] == 'F'):\n",
    "        y +=1\n",
    "        y_corr.append(y)\n",
    "        x_corr.append(x)\n",
    "\n",
    "print(step)\n",
    "print(x_corr)\n",
    "print(y_corr)"
   ]
  },
  {
   "cell_type": "code",
   "execution_count": 7,
   "id": "2c662781",
   "metadata": {},
   "outputs": [
    {
     "name": "stdout",
     "output_type": "stream",
     "text": [
      "    Steps  RN Direction  x coordinate  y coordinate\n",
      "0       1   8         R             1             0\n",
      "1       2   1         F             1             1\n",
      "2       3   5         L             0             1\n",
      "3       4   5         L            -1             1\n",
      "4       5   5         L            -2             1\n",
      "5       6   6         L            -3             1\n",
      "6       7   1         F            -3             2\n",
      "7       8   0         F            -3             3\n",
      "8       9   7         L            -4             3\n",
      "9      10   8         R            -3             3\n",
      "10     11   3         F            -3             4\n",
      "11     12   2         F            -3             5\n",
      "12     13   5         L            -4             5\n",
      "13     14   6         L            -5             5\n",
      "14     15   3         F            -5             6\n",
      "15     16   1         F            -5             7\n",
      "16     17   8         R            -4             7\n",
      "17     18   5         L            -5             7\n",
      "18     19   1         F            -5             8\n",
      "19     20   8         R            -4             8\n"
     ]
    }
   ],
   "source": [
    "data = {\n",
    "    \"Steps\" : step,\n",
    "    \"RN\" : rn,\n",
    "    \"Direction\" : direction,\n",
    "    \"x coordinate\" : x_corr,\n",
    "    \"y coordinate\" : y_corr,\n",
    "}\n",
    "\n",
    "df = pd.DataFrame(data)\n",
    "print(df)"
   ]
  }
 ],
 "metadata": {
  "kernelspec": {
   "display_name": "base",
   "language": "python",
   "name": "python3"
  },
  "language_info": {
   "codemirror_mode": {
    "name": "ipython",
    "version": 3
   },
   "file_extension": ".py",
   "mimetype": "text/x-python",
   "name": "python",
   "nbconvert_exporter": "python",
   "pygments_lexer": "ipython3",
   "version": "3.9.13"
  },
  "vscode": {
   "interpreter": {
    "hash": "963fec66046f4c986769a02bfe9ea1432793869968131dcc5ed45c5b4f91da6a"
   }
  }
 },
 "nbformat": 4,
 "nbformat_minor": 5
}
