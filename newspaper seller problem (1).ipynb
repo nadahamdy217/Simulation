{
 "cells": [
  {
   "cell_type": "markdown",
   "id": "0b170cdf",
   "metadata": {},
   "source": [
    "## Name: Nada Hamdy Fathy Abdelsalam\n",
    "## الاسم: ندى حمدي فتحي عبدالسلام\n",
    "## ID : 20201382436"
   ]
  },
  {
   "cell_type": "code",
   "execution_count": 134,
   "id": "de63da41",
   "metadata": {},
   "outputs": [],
   "source": [
    "#import lybraries we will use\n",
    "import pandas as pd\n",
    "import random"
   ]
  },
  {
   "cell_type": "code",
   "execution_count": 147,
   "id": "02b53f98",
   "metadata": {
    "scrolled": true
   },
   "outputs": [
    {
     "name": "stdout",
     "output_type": "stream",
     "text": [
      "please enter the number of days that you want to simulate: 30\n",
      "please enter the number of newspaper the seller will buy: 70\n",
      "please enter the cost of the newspaper when the seller sells to customers: 0.5\n",
      "please enter the cost of newspaper when the seller buys them: 0.33\n",
      "please enter the scrap cost: 0.05\n"
     ]
    }
   ],
   "source": [
    "num_of_days = int(input(\"please enter the number of days that you want to simulate: \"))\n",
    "num_of_np = int(input(\"please enter the number of newspaper the seller will buy: \"))\n",
    "cost_of_np = float(input(\"please enter the cost of the newspaper when the seller sells to customers: \"))\n",
    "buy_np = float(input(\"please enter the cost of newspaper when the seller buys them: \"))\n",
    "scrap_cost = float(input(\"please enter the scrap cost: \"))"
   ]
  },
  {
   "cell_type": "code",
   "execution_count": 148,
   "id": "84165f67",
   "metadata": {},
   "outputs": [
    {
     "name": "stdout",
     "output_type": "stream",
     "text": [
      "[87, 53, 80, 62, 66, 85, 59, 75, 96, 91, 71, 68, 99, 90, 70, 18, 69, 8, 11, 23, 63, 93, 24, 16, 7, 45, 64, 13, 42, 39]\n"
     ]
    }
   ],
   "source": [
    "# lists we need\n",
    "rnfornt= random.sample(range(1, 100),num_of_days)\n",
    "news_type = []\n",
    "rnfordemand= random.sample(range(1, 100),num_of_days)\n",
    "demand= []\n",
    "revenuefromsales=[]\n",
    "costofnp=[]\n",
    "scraprevenue=[]\n",
    "lostprofit=[]\n",
    "dailyprofit=[]\n",
    "\n",
    "print (rnfornt)"
   ]
  },
  {
   "cell_type": "code",
   "execution_count": 1,
   "id": "45d93999",
   "metadata": {},
   "outputs": [
    {
     "ename": "SyntaxError",
     "evalue": "invalid syntax (2594879476.py, line 3)",
     "output_type": "error",
     "traceback": [
      "\u001b[1;36m  File \u001b[1;32m\"C:\\Users\\amany_2bhb3vy\\AppData\\Local\\Temp\\ipykernel_1268\\2594879476.py\"\u001b[1;36m, line \u001b[1;32m3\u001b[0m\n\u001b[1;33m    for i in range num_of_days:\u001b[0m\n\u001b[1;37m                   ^\u001b[0m\n\u001b[1;31mSyntaxError\u001b[0m\u001b[1;31m:\u001b[0m invalid syntax\n"
     ]
    }
   ],
   "source": [
    "#filling news_type list with values\n",
    "\n",
    "for i in range (num_of_days):\n",
    "    if rnfornt[i] >= 1 and rnfornt[i] <= 35:\n",
    "        news_type.append(\"good\")\n",
    "    elif rnfornt[i] >= 36 and rnfornt[i] <= 80:\n",
    "        news_type.append(\"fair\")\n",
    "    elif rnfornt[i] >= 81 and rnfornt[i] <= 100:\n",
    "        news_type.append(\"poor\")\n",
    "print (news_type)"
   ]
  },
  {
   "cell_type": "code",
   "execution_count": 150,
   "id": "ed7de775",
   "metadata": {},
   "outputs": [
    {
     "name": "stdout",
     "output_type": "stream",
     "text": [
      "[70, 60, 40, 70, 40, 40, 60, 70, 80, 40, 60, 60, 60, 40, 50, 90, 90, 90, 50, 80, 60, 50, 70, 40, 70, 60, 50, 60, 80, 90]\n"
     ]
    }
   ],
   "source": [
    "#filling demand list with values\n",
    "\n",
    "for i in range (num_of_days):\n",
    "    if news_type[i] == 'good':\n",
    "        if rnfordemand[i] >= 1 and rnfordemand[i] <= 3:\n",
    "            demand.append(40)\n",
    "        elif rnfordemand[i] >= 4 and rnfordemand[i] <= 8:\n",
    "            demand.append(50)\n",
    "        elif rnfordemand[i] >= 9 and rnfordemand[i] <= 23:\n",
    "            demand.append(60)\n",
    "        elif rnfordemand[i] >= 24 and rnfordemand[i] <= 43:\n",
    "            demand.append(70)\n",
    "        elif rnfordemand[i] >= 44 and rnfordemand[i] <= 78:\n",
    "            demand.append(80)\n",
    "        elif rnfordemand[i] >= 79 and rnfordemand[i] <= 93:\n",
    "            demand.append(90)\n",
    "        elif rnfordemand[i] >= 94 and rnfordemand[i] <= 100:\n",
    "            demand.append(100)\n",
    "    \n",
    "    elif news_type[i] == 'fair':\n",
    "        if rnfordemand[i] >= 1 and rnfordemand[i] <= 10:\n",
    "            demand.append(40)\n",
    "        elif rnfordemand[i] >= 11 and rnfordemand[i] <= 28:\n",
    "            demand.append(50)\n",
    "        elif rnfordemand[i] >= 29 and rnfordemand[i] <= 68:\n",
    "            demand.append(60)\n",
    "        elif rnfordemand[i] >= 69 and rnfordemand[i] <= 88:\n",
    "            demand.append(70)\n",
    "        elif rnfordemand[i] >= 89 and rnfordemand[i] <= 96:\n",
    "            demand.append(80)\n",
    "        elif rnfordemand[i] >= 97 and rnfordemand[i] <= 100:\n",
    "            demand.append(90)\n",
    "            \n",
    "    elif news_type[i] == 'poor':\n",
    "        if rnfordemand[i] >= 1 and rnfordemand[i] <= 44:\n",
    "            demand.append(40)\n",
    "        elif rnfordemand[i] >= 11 and rnfordemand[i] <= 66:\n",
    "            demand.append(50)\n",
    "        elif rnfordemand[i] >= 67 and rnfordemand[i] <= 82:\n",
    "            demand.append(60)\n",
    "        elif rnfordemand[i] >= 83 and rnfordemand[i] <= 88:\n",
    "            demand.append(70)\n",
    "        elif rnfordemand[i] >= 89 and rnfordemand[i] <= 94:\n",
    "            demand.append(80)\n",
    "            \n",
    "print (demand)"
   ]
  },
  {
   "cell_type": "code",
   "execution_count": 151,
   "id": "90dfe3f7",
   "metadata": {},
   "outputs": [
    {
     "name": "stdout",
     "output_type": "stream",
     "text": [
      "[35.0, 30.0, 20.0, 35.0, 20.0, 20.0, 30.0, 35.0, 35.0, 20.0, 30.0, 30.0, 30.0, 20.0, 25.0, 35.0, 35.0, 35.0, 25.0, 35.0, 30.0, 25.0, 35.0, 20.0, 35.0, 30.0, 25.0, 30.0, 35.0, 35.0]\n"
     ]
    }
   ],
   "source": [
    "#revenue from sales list\n",
    "\n",
    "for i in range (num_of_days):\n",
    "    if demand[i] > num_of_np:\n",
    "        revenuefromsales.append(num_of_np * cost_of_np)\n",
    "    elif demand[i] <= num_of_np :\n",
    "        revenuefromsales.append(demand[i] * cost_of_np)\n",
    "        \n",
    "print (revenuefromsales)"
   ]
  },
  {
   "cell_type": "code",
   "execution_count": 152,
   "id": "0471722b",
   "metadata": {},
   "outputs": [
    {
     "name": "stdout",
     "output_type": "stream",
     "text": [
      "[23.1, 23.1, 23.1, 23.1, 23.1, 23.1, 23.1, 23.1, 23.1, 23.1, 23.1, 23.1, 23.1, 23.1, 23.1, 23.1, 23.1, 23.1, 23.1, 23.1, 23.1, 23.1, 23.1, 23.1, 23.1, 23.1, 23.1, 23.1, 23.1, 23.1]\n"
     ]
    }
   ],
   "source": [
    "#cost of np\n",
    "\n",
    "for i in range (num_of_days):\n",
    "    costofnp.append(num_of_np * buy_np)\n",
    "    \n",
    "print(costofnp)"
   ]
  },
  {
   "cell_type": "code",
   "execution_count": 153,
   "id": "8853649d",
   "metadata": {},
   "outputs": [
    {
     "name": "stdout",
     "output_type": "stream",
     "text": [
      "[0, 0, 0, 0, 0, 0, 0, 0, 1.7, 0, 0, 0, 0, 0, 0, 3.4, 3.4, 3.4, 0, 1.7, 0, 0, 0, 0, 0, 0, 0, 0, 1.7, 3.4]\n"
     ]
    }
   ],
   "source": [
    "#lost profit\n",
    "\n",
    "for i in range (num_of_days):\n",
    "    if demand[i] > num_of_np:\n",
    "        lostprofit.append(round((demand[i] - num_of_np) * (cost_of_np - buy_np),2))\n",
    "    else:\n",
    "        lostprofit.append(0)\n",
    "        \n",
    "print (lostprofit)"
   ]
  },
  {
   "cell_type": "code",
   "execution_count": 154,
   "id": "81b64879",
   "metadata": {},
   "outputs": [
    {
     "name": "stdout",
     "output_type": "stream",
     "text": [
      "[0, 0.5, 1.5, 0, 1.5, 1.5, 0.5, 0, 0, 1.5, 0.5, 0.5, 0.5, 1.5, 1.0, 0, 0, 0, 1.0, 0, 0.5, 1.0, 0, 1.5, 0, 0.5, 1.0, 0.5, 0, 0]\n"
     ]
    }
   ],
   "source": [
    "#scrap revenue\n",
    "\n",
    "for i in range (num_of_days):\n",
    "    if demand[i] < num_of_np :\n",
    "        scraprevenue.append(round((num_of_np-demand[i])*scrap_cost , 2))\n",
    "    else:\n",
    "        scraprevenue.append(0)\n",
    "print (scraprevenue)"
   ]
  },
  {
   "cell_type": "code",
   "execution_count": 155,
   "id": "d0b13fea",
   "metadata": {},
   "outputs": [
    {
     "name": "stdout",
     "output_type": "stream",
     "text": [
      "[11.9, 7.4, -1.6, 11.9, -1.6, -1.6, 7.4, 11.9, 10.2, -1.6, 7.4, 7.4, 7.4, -1.6, 2.9, 8.5, 8.5, 8.5, 2.9, 10.2, 7.4, 2.9, 11.9, -1.6, 11.9, 7.4, 2.9, 7.4, 10.2, 8.5]\n"
     ]
    }
   ],
   "source": [
    "#daily profit\n",
    "\n",
    "for i in range (num_of_days):\n",
    "    dailyprofit.append(round((revenuefromsales[i] - costofnp[i] - lostprofit[i] + scraprevenue[i]),2))\n",
    "    \n",
    "print (dailyprofit)"
   ]
  },
  {
   "cell_type": "code",
   "execution_count": 156,
   "id": "8b8bcef8",
   "metadata": {},
   "outputs": [
    {
     "name": "stdout",
     "output_type": "stream",
     "text": [
      "    rn for nt new type  rn for demand  demand  revenue from sales  cost of np  \\\n",
      "0          87     poor             87      70                35.0        23.1   \n",
      "1          53     fair             65      60                30.0        23.1   \n",
      "2          80     fair              3      40                20.0        23.1   \n",
      "3          62     fair             76      70                35.0        23.1   \n",
      "4          66     fair              8      40                20.0        23.1   \n",
      "5          85     poor             36      40                20.0        23.1   \n",
      "6          59     fair             50      60                30.0        23.1   \n",
      "7          75     fair             71      70                35.0        23.1   \n",
      "8          96     poor             89      80                35.0        23.1   \n",
      "9          91     poor             17      40                20.0        23.1   \n",
      "10         71     fair             30      60                30.0        23.1   \n",
      "11         68     fair             34      60                30.0        23.1   \n",
      "12         99     poor             70      60                30.0        23.1   \n",
      "13         90     poor             25      40                20.0        23.1   \n",
      "14         70     fair             26      50                25.0        23.1   \n",
      "15         18     good             90      90                35.0        23.1   \n",
      "16         69     fair             97      90                35.0        23.1   \n",
      "17          8     good             83      90                35.0        23.1   \n",
      "18         11     good              4      50                25.0        23.1   \n",
      "19         23     good             55      80                35.0        23.1   \n",
      "20         63     fair             60      60                30.0        23.1   \n",
      "21         93     poor             46      50                25.0        23.1   \n",
      "22         24     good             32      70                35.0        23.1   \n",
      "23         16     good              2      40                20.0        23.1   \n",
      "24          7     good             28      70                35.0        23.1   \n",
      "25         45     fair             64      60                30.0        23.1   \n",
      "26         64     fair             27      50                25.0        23.1   \n",
      "27         13     good             18      60                30.0        23.1   \n",
      "28         42     fair             93      80                35.0        23.1   \n",
      "29         39     fair             98      90                35.0        23.1   \n",
      "\n",
      "    scrap revenue  lost profit  daily profit  \n",
      "0             0.0          0.0          11.9  \n",
      "1             0.5          0.0           7.4  \n",
      "2             1.5          0.0          -1.6  \n",
      "3             0.0          0.0          11.9  \n",
      "4             1.5          0.0          -1.6  \n",
      "5             1.5          0.0          -1.6  \n",
      "6             0.5          0.0           7.4  \n",
      "7             0.0          0.0          11.9  \n",
      "8             0.0          1.7          10.2  \n",
      "9             1.5          0.0          -1.6  \n",
      "10            0.5          0.0           7.4  \n",
      "11            0.5          0.0           7.4  \n",
      "12            0.5          0.0           7.4  \n",
      "13            1.5          0.0          -1.6  \n",
      "14            1.0          0.0           2.9  \n",
      "15            0.0          3.4           8.5  \n",
      "16            0.0          3.4           8.5  \n",
      "17            0.0          3.4           8.5  \n",
      "18            1.0          0.0           2.9  \n",
      "19            0.0          1.7          10.2  \n",
      "20            0.5          0.0           7.4  \n",
      "21            1.0          0.0           2.9  \n",
      "22            0.0          0.0          11.9  \n",
      "23            1.5          0.0          -1.6  \n",
      "24            0.0          0.0          11.9  \n",
      "25            0.5          0.0           7.4  \n",
      "26            1.0          0.0           2.9  \n",
      "27            0.5          0.0           7.4  \n",
      "28            0.0          1.7          10.2  \n",
      "29            0.0          3.4           8.5  \n"
     ]
    }
   ],
   "source": [
    "#making a dataset\n",
    "data = {\n",
    "    \"rn for nt\":rnfornt,\n",
    "    \"new type\":news_type,\n",
    "    \"rn for demand\":rnfordemand,\n",
    "    \"demand\":demand,\n",
    "    \"revenue from sales\":revenuefromsales,\n",
    "    \"cost of np\":costofnp,\n",
    "    \"scrap revenue\":scraprevenue,\n",
    "    \"lost profit\":lostprofit,\n",
    "    \"daily profit\":dailyprofit\n",
    "    }\n",
    "\n",
    "#making a dataframe\n",
    "df = pd.DataFrame(data)\n",
    "print(df)"
   ]
  },
  {
   "cell_type": "code",
   "execution_count": 157,
   "id": "feb42302",
   "metadata": {},
   "outputs": [
    {
     "name": "stdout",
     "output_type": "stream",
     "text": [
      "the total profit is: 185.3$\n"
     ]
    }
   ],
   "source": [
    "#total profit \n",
    "\n",
    "total_profit = round(df['daily profit'].sum(),2)\n",
    "print (\"the total profit is: \"+ str(total_profit)+\"$\")"
   ]
  }
 ],
 "metadata": {
  "kernelspec": {
   "display_name": "Python 3 (ipykernel)",
   "language": "python",
   "name": "python3"
  },
  "language_info": {
   "codemirror_mode": {
    "name": "ipython",
    "version": 3
   },
   "file_extension": ".py",
   "mimetype": "text/x-python",
   "name": "python",
   "nbconvert_exporter": "python",
   "pygments_lexer": "ipython3",
   "version": "3.9.13"
  }
 },
 "nbformat": 4,
 "nbformat_minor": 5
}
